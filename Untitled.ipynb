{
 "cells": [
  {
   "cell_type": "code",
   "execution_count": 5,
   "metadata": {},
   "outputs": [
    {
     "name": "stdout",
     "output_type": "stream",
     "text": [
      "Total number of arguments: 3\n",
      "This is the agent_ip: -f\n"
     ]
    },
    {
     "ename": "IndexError",
     "evalue": "list index out of range",
     "output_type": "error",
     "traceback": [
      "\u001b[1;31m---------------------------------------------------------------------------\u001b[0m",
      "\u001b[1;31mIndexError\u001b[0m                                Traceback (most recent call last)",
      "\u001b[1;32m<ipython-input-5-d508b5230491>\u001b[0m in \u001b[0;36m<module>\u001b[1;34m\u001b[0m\n\u001b[1;32m----> 1\u001b[1;33m \u001b[1;32mimport\u001b[0m \u001b[0mti\u001b[0m\u001b[1;33m\u001b[0m\u001b[1;33m\u001b[0m\u001b[0m\n\u001b[0m\u001b[0;32m      2\u001b[0m \u001b[0mprint\u001b[0m\u001b[1;33m(\u001b[0m\u001b[0magip\u001b[0m\u001b[1;33m)\u001b[0m\u001b[1;33m\u001b[0m\u001b[1;33m\u001b[0m\u001b[0m\n",
      "\u001b[1;32mD:\\desktop\\2Semmasters\\Data and Network Operations\\Assignments\\Assignment3\\FInalTRY\\ti.py\u001b[0m in \u001b[0;36m<module>\u001b[1;34m\u001b[0m\n\u001b[0;32m     27\u001b[0m \u001b[0magip\u001b[0m\u001b[1;33m=\u001b[0m\u001b[0mstr\u001b[0m\u001b[1;33m(\u001b[0m\u001b[0mc\u001b[0m\u001b[1;33m[\u001b[0m\u001b[1;36m0\u001b[0m\u001b[1;33m]\u001b[0m\u001b[1;33m)\u001b[0m   \u001b[1;31m#This is the agent_ip.\u001b[0m\u001b[1;33m\u001b[0m\u001b[1;33m\u001b[0m\u001b[0m\n\u001b[0;32m     28\u001b[0m \u001b[0mprint\u001b[0m\u001b[1;33m(\u001b[0m\u001b[1;34m\"This is the agent_ip:\"\u001b[0m\u001b[1;33m,\u001b[0m\u001b[0magip\u001b[0m\u001b[1;33m)\u001b[0m\u001b[1;33m\u001b[0m\u001b[1;33m\u001b[0m\u001b[0m\n\u001b[1;32m---> 29\u001b[1;33m \u001b[0mpo\u001b[0m\u001b[1;33m=\u001b[0m\u001b[0mint\u001b[0m\u001b[1;33m(\u001b[0m\u001b[0mc\u001b[0m\u001b[1;33m[\u001b[0m\u001b[1;36m1\u001b[0m\u001b[1;33m]\u001b[0m\u001b[1;33m)\u001b[0m     \u001b[1;31m#This is the port number.\u001b[0m\u001b[1;33m\u001b[0m\u001b[1;33m\u001b[0m\u001b[0m\n\u001b[0m\u001b[0;32m     30\u001b[0m \u001b[0mprint\u001b[0m\u001b[1;33m(\u001b[0m\u001b[1;34m\"This is the port-number:\"\u001b[0m\u001b[1;33m,\u001b[0m \u001b[0mpo\u001b[0m\u001b[1;33m)\u001b[0m\u001b[1;33m\u001b[0m\u001b[1;33m\u001b[0m\u001b[0m\n\u001b[0;32m     31\u001b[0m \u001b[0mcom\u001b[0m\u001b[1;33m=\u001b[0m\u001b[0mstr\u001b[0m\u001b[1;33m(\u001b[0m\u001b[0mc\u001b[0m\u001b[1;33m[\u001b[0m\u001b[1;36m2\u001b[0m\u001b[1;33m]\u001b[0m\u001b[1;33m)\u001b[0m    \u001b[1;31m#this is the community string.\u001b[0m\u001b[1;33m\u001b[0m\u001b[1;33m\u001b[0m\u001b[0m\n",
      "\u001b[1;31mIndexError\u001b[0m: list index out of range"
     ]
    }
   ],
   "source": [
    "#! C:\\Users\\mithr\\AppData\\Local\\Programs\\Python\\Python39\\python.exe\n",
    "#!/usr/bin/env python3\n",
    "\n",
    "#This code is typed and owned By Vishwa Mithra Tatta for the assignment 3 of the subject ET-2598\n",
    "\n",
    "import sys\n",
    "from puresnmp import get\n",
    "\n",
    "#####Please download the above packages if not available#####\n",
    "#####Initializing########\n",
    "\n",
    "dum=0 #Dummy variable\n",
    "nargs=(len(sys.argv))#This is the number of input arguments\n",
    "print('Total number of arguments:',format(len(sys.argv)))\n",
    "\n",
    "\n",
    "a=[None]*nargs \n",
    "\n",
    "for b in sys.argv:\n",
    " a[dum]=b                         #All the input arguments are put into this variable-'a'\n",
    " dum=dum+1\n",
    " \n",
    "\n",
    "dum=0\n",
    "c=str(a[1]).split(':')\n",
    "agip=str(c[0])          #This is the agent_ip.\n",
    "po=int(c[1])            #This is the port number.\n",
    "com=str(c[2])           #this is the community string.\n",
    "safreq=float(a[2])      #This is the sample frequency. This is catching the inputs correctly. DOuble checked\n",
    "nsamp=int(a[3])         #This is the number of samples.\n",
    "tp=1/safreq             #This is the time period of the frequencies input.\n",
    "\n",
    "print(\"This is the agent_ip:\",agip)\n",
    "print(\"This is the port-number:\", po)\n",
    "print(\"This is the community-string:\", com)\n",
    "print(\"This is the sample-freq:\", safreq)\n",
    "print(\"This is the number of samples:\", nsamp)\n",
    "print(\"This is the time period for number of samples:\", tp)\n",
    "\n",
    "\n",
    "oids=[None]*(nargs-3)\n",
    "for b in range(4,nargs):\n",
    " oids[dum]=str(a[b]) #Assigning all the oids to this oids variable\n",
    " print(\"this is the oid:\", oids[dum])\n",
    " oids[dum]=str(oids[dum])\n",
    " dum=dum+1\n",
    " print(\"Number of OIDs given:\", dum)\n",
    "\n",
    "\n",
    "    \n",
    "for oids in range:    \n",
    "  result = get(agip, com, oids**, port=po)\n",
    "  print(result)    \n",
    "    \n",
    "    \n",
    "    \n",
    "\n",
    "    \n",
    "    \n",
    "    \n",
    "    \n",
    "    \n",
    "    \n",
    "    \n",
    "    "
   ]
  },
  {
   "cell_type": "code",
   "execution_count": null,
   "metadata": {},
   "outputs": [],
   "source": []
  },
  {
   "cell_type": "code",
   "execution_count": null,
   "metadata": {},
   "outputs": [],
   "source": []
  },
  {
   "cell_type": "code",
   "execution_count": null,
   "metadata": {},
   "outputs": [],
   "source": []
  },
  {
   "cell_type": "code",
   "execution_count": null,
   "metadata": {},
   "outputs": [],
   "source": []
  },
  {
   "cell_type": "code",
   "execution_count": null,
   "metadata": {},
   "outputs": [],
   "source": []
  },
  {
   "cell_type": "code",
   "execution_count": null,
   "metadata": {},
   "outputs": [],
   "source": [
    "from puresnmp import get\n",
    "IP = '18.219.51.6'\n",
    "COMMUNITY = 'public'\n",
    "OID = '1.3.6.1.4.1.4171.40.1'\n",
    "result = get(IP, COMMUNITY, OID, port=1611)\n",
    "print(result)"
   ]
  }
 ],
 "metadata": {
  "kernelspec": {
   "display_name": "Python 3",
   "language": "python",
   "name": "python3"
  },
  "language_info": {
   "codemirror_mode": {
    "name": "ipython",
    "version": 3
   },
   "file_extension": ".py",
   "mimetype": "text/x-python",
   "name": "python",
   "nbconvert_exporter": "python",
   "pygments_lexer": "ipython3",
   "version": "3.8.5"
  }
 },
 "nbformat": 4,
 "nbformat_minor": 4
}
